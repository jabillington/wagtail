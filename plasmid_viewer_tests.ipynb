{
 "cells": [
  {
   "cell_type": "code",
   "execution_count": null,
   "metadata": {},
   "outputs": [],
   "source": [
    "import os, sys, io, random\n",
    "import string\n",
    "import numpy as np\n",
    "import pandas as pd\n",
    "from importlib import reload\n",
    "\n",
    "from Bio.Seq import Seq\n",
    "from Bio.SeqRecord import SeqRecord\n",
    "from Bio.Align import MultipleSeqAlignment\n",
    "from Bio import AlignIO, SeqIO\n",
    "\n",
    "from IPython.display import HTML\n",
    "\n",
    "from bokeh.plotting import figure\n",
    "from bokeh.models import ColumnDataSource, Plot, LinearAxis, Grid, CustomJS, Slider, HoverTool, NumeralTickFormatter, Arrow, NormalHead\n",
    "from bokeh.models import LinearAxis, Range1d, DataRange1d\n",
    "from bokeh.models.glyphs import Text, Rect\n",
    "from bokeh.layouts import gridplot, column\n",
    "import panel as pn\n",
    "import panel.widgets as pnw\n",
    "pn.extension()\n",
    "\n",
    "from pybioviz import dashboards, utils, plotters"
   ]
  },
  {
   "cell_type": "markdown",
   "metadata": {},
   "source": [
    "Original genome_features_veiwer to modfify"
   ]
  },
  {
   "cell_type": "code",
   "execution_count": null,
   "metadata": {},
   "outputs": [],
   "source": [
    "\n",
    "app = dashboards.genome_features_viewer('example.gff')\n",
    "app"
   ]
  },
  {
   "cell_type": "markdown",
   "metadata": {},
   "source": [
    "## Create a quick helper to extract the seq from gb files"
   ]
  },
  {
   "cell_type": "code",
   "execution_count": null,
   "metadata": {},
   "outputs": [],
   "source": [
    "def genbank_to_sequence(gb_file, key=0):\n",
    "    \"\"\"Read genbank record features\"\"\"\n",
    "\n",
    "    if gb_file is None or not os.path.exists(gb_file):\n",
    "        return\n",
    "    rec = list(SeqIO.parse(open(gb_file,'r'),'genbank'))[key]\n",
    "    return rec.seq"
   ]
  },
  {
   "cell_type": "code",
   "execution_count": null,
   "metadata": {},
   "outputs": [],
   "source": []
  },
  {
   "cell_type": "markdown",
   "metadata": {},
   "source": []
  },
  {
   "cell_type": "code",
   "execution_count": null,
   "metadata": {},
   "outputs": [],
   "source": [
    "# Test panel for plasmid features viewer\n",
    "from importlib import reload\n",
    "app = plasmid_features_viewer('d378_attb-entry.gb')\n",
    "app\n",
    "\n"
   ]
  },
  {
   "cell_type": "code",
   "execution_count": 17,
   "metadata": {},
   "outputs": [
    {
     "data": {},
     "metadata": {},
     "output_type": "display_data"
    },
    {
     "data": {
      "application/vnd.holoviews_exec.v0+json": "",
      "text/html": [
       "<div id='1780'>\n",
       "\n",
       "\n",
       "\n",
       "\n",
       "\n",
       "  <div class=\"bk-root\" id=\"99a9999c-2c17-47cf-bfa6-bfa6c8fb9619\" data-root-id=\"1780\"></div>\n",
       "</div>\n",
       "<script type=\"application/javascript\">(function(root) {\n",
       "  function embed_document(root) {\n",
       "    var docs_json = {\"c0524f9d-f438-49f5-a2d5-6f4a89340c5e\":{\"defs\":[{\"extends\":null,\"module\":null,\"name\":\"ReactiveHTML1\",\"overrides\":[],\"properties\":[]},{\"extends\":null,\"module\":null,\"name\":\"FlexBox1\",\"overrides\":[],\"properties\":[{\"default\":\"flex-start\",\"kind\":null,\"name\":\"align_content\"},{\"default\":\"flex-start\",\"kind\":null,\"name\":\"align_items\"},{\"default\":\"row\",\"kind\":null,\"name\":\"flex_direction\"},{\"default\":\"wrap\",\"kind\":null,\"name\":\"flex_wrap\"},{\"default\":\"flex-start\",\"kind\":null,\"name\":\"justify_content\"}]},{\"extends\":null,\"module\":null,\"name\":\"TemplateActions1\",\"overrides\":[],\"properties\":[{\"default\":0,\"kind\":null,\"name\":\"open_modal\"},{\"default\":0,\"kind\":null,\"name\":\"close_modal\"}]},{\"extends\":null,\"module\":null,\"name\":\"MaterialTemplateActions1\",\"overrides\":[],\"properties\":[{\"default\":0,\"kind\":null,\"name\":\"open_modal\"},{\"default\":0,\"kind\":null,\"name\":\"close_modal\"}]}],\"roots\":{\"references\":[{\"attributes\":{\"text_align\":{\"value\":\"center\"},\"text_color\":{\"value\":\"black\"},\"text_font\":{\"field\":\"monospace\"},\"text_font_size\":{\"value\":\"10pt\"},\"x\":{\"field\":\"x\"},\"y\":{\"value\":0}},\"id\":\"1776\",\"type\":\"Text\"},{\"attributes\":{\"logo\":null},\"id\":\"1772\",\"type\":\"Toolbar\"},{\"attributes\":{\"children\":[{\"id\":\"1756\"}],\"margin\":[0,0,0,0],\"name\":\"Column00183\",\"sizing_mode\":\"stretch_width\"},\"id\":\"1780\",\"type\":\"Column\"},{\"attributes\":{\"coordinates\":null,\"formatter\":{\"id\":\"1784\"},\"group\":null,\"major_label_policy\":{\"id\":\"1785\"},\"ticker\":{\"id\":\"1769\"},\"visible\":false},\"id\":\"1768\",\"type\":\"LinearAxis\"},{\"attributes\":{},\"id\":\"1787\",\"type\":\"BasicTickFormatter\"},{\"attributes\":{},\"id\":\"1790\",\"type\":\"Selection\"},{\"attributes\":{\"fill_alpha\":{\"value\":0.4},\"fill_color\":{\"field\":\"colors\"},\"height\":{\"value\":2},\"line_color\":{\"value\":null},\"width\":{\"value\":1},\"x\":{\"field\":\"x\"},\"y\":{\"value\":0}},\"id\":\"1773\",\"type\":\"Rect\"},{\"attributes\":{},\"id\":\"1788\",\"type\":\"AllLabels\"},{\"attributes\":{\"coordinates\":null,\"group\":null},\"id\":\"1781\",\"type\":\"Title\"},{\"attributes\":{\"source\":{\"id\":\"1754\"}},\"id\":\"1775\",\"type\":\"CDSView\"},{\"attributes\":{},\"id\":\"1789\",\"type\":\"UnionRenderers\"},{\"attributes\":{\"client_comm_id\":\"3594934bdedf448cb3903d39e3ad79ff\",\"comm_id\":\"a9be0bfc184a42a2a3aaf4b61918400d\",\"plot_id\":\"1780\"},\"id\":\"1831\",\"type\":\"panel.models.comm_manager.CommManager\"},{\"attributes\":{\"source\":{\"id\":\"1754\"}},\"id\":\"1778\",\"type\":\"CDSView\"},{\"attributes\":{},\"id\":\"1765\",\"type\":\"BasicTicker\"},{\"attributes\":{\"below\":[{\"id\":\"1764\"}],\"center\":[{\"id\":\"1767\"},{\"id\":\"1771\"}],\"height\":100,\"left\":[{\"id\":\"1768\"}],\"margin\":[10,10,10,10],\"min_border\":0,\"renderers\":[{\"id\":\"1774\"},{\"id\":\"1777\"}],\"title\":{\"id\":\"1781\"},\"toolbar\":{\"id\":\"1772\"},\"toolbar_location\":\"below\",\"width\":1000,\"x_range\":{\"id\":\"1755\"},\"x_scale\":{\"id\":\"1760\"},\"y_range\":{\"id\":\"1758\"},\"y_scale\":{\"id\":\"1762\"}},\"id\":\"1756\",\"subtype\":\"Figure\",\"type\":\"Plot\"},{\"attributes\":{\"coordinates\":null,\"data_source\":{\"id\":\"1754\"},\"glyph\":{\"id\":\"1773\"},\"group\":null,\"hover_glyph\":null,\"view\":{\"id\":\"1775\"}},\"id\":\"1774\",\"type\":\"GlyphRenderer\"},{\"attributes\":{},\"id\":\"1784\",\"type\":\"BasicTickFormatter\"},{\"attributes\":{\"coordinates\":null,\"formatter\":{\"id\":\"1787\"},\"group\":null,\"major_label_policy\":{\"id\":\"1788\"},\"ticker\":{\"id\":\"1765\"}},\"id\":\"1764\",\"type\":\"LinearAxis\"},{\"attributes\":{\"coordinates\":null,\"data_source\":{\"id\":\"1754\"},\"glyph\":{\"id\":\"1776\"},\"group\":null,\"hover_glyph\":null,\"view\":{\"id\":\"1778\"}},\"id\":\"1777\",\"type\":\"GlyphRenderer\"},{\"attributes\":{},\"id\":\"1769\",\"type\":\"BasicTicker\"},{\"attributes\":{\"axis\":{\"id\":\"1764\"},\"coordinates\":null,\"group\":null,\"ticker\":null,\"visible\":false},\"id\":\"1767\",\"type\":\"Grid\"},{\"attributes\":{},\"id\":\"1760\",\"type\":\"LinearScale\"},{\"attributes\":{\"bounds\":\"auto\",\"end\":49},\"id\":\"1755\",\"type\":\"Range1d\"},{\"attributes\":{},\"id\":\"1762\",\"type\":\"LinearScale\"},{\"attributes\":{\"axis\":{\"id\":\"1768\"},\"coordinates\":null,\"dimension\":1,\"group\":null,\"ticker\":null,\"visible\":false},\"id\":\"1771\",\"type\":\"Grid\"},{\"attributes\":{\"data\":{\"colors\":[\"red\",\"orange\",\"blue\",\"green\",\"red\",\"blue\",\"blue\",\"red\",\"red\",\"blue\",\"green\",\"blue\",\"green\",\"green\",\"green\",\"green\",\"green\",\"blue\",\"blue\",\"orange\",\"red\",\"orange\",\"orange\",\"green\",\"red\",\"red\",\"blue\",\"green\",\"orange\",\"orange\",\"blue\",\"green\",\"green\",\"blue\",\"red\",\"orange\",\"blue\",\"red\",\"orange\",\"red\",\"orange\",\"blue\",\"orange\",\"blue\",\"red\",\"orange\",\"red\",\"green\",\"red\"],\"text\":[\"A\",\"G\",\"C\",\"T\",\"A\",\"C\",\"C\",\"A\",\"A\",\"C\",\"T\",\"C\",\"T\",\"T\",\"T\",\"T\",\"T\",\"C\",\"C\",\"G\",\"A\",\"G\",\"G\",\"T\",\"A\",\"A\",\"C\",\"T\",\"G\",\"G\",\"C\",\"T\",\"T\",\"C\",\"A\",\"G\",\"C\",\"A\",\"G\",\"A\",\"G\",\"C\",\"G\",\"C\",\"A\",\"G\",\"A\",\"T\",\"A\"],\"x\":[1,2,3,4,5,6,7,8,9,10,11,12,13,14,15,16,17,18,19,20,21,22,23,24,25,26,27,28,29,30,31,32,33,34,35,36,37,38,39,40,41,42,43,44,45,46,47,48,49]},\"selected\":{\"id\":\"1790\"},\"selection_policy\":{\"id\":\"1789\"}},\"id\":\"1754\",\"type\":\"ColumnDataSource\"},{\"attributes\":{},\"id\":\"1785\",\"type\":\"AllLabels\"},{\"attributes\":{},\"id\":\"1758\",\"type\":\"Range1d\"}],\"root_ids\":[\"1780\",\"1831\"]},\"title\":\"Bokeh Application\",\"version\":\"2.4.2\"}};\n",
       "    var render_items = [{\"docid\":\"c0524f9d-f438-49f5-a2d5-6f4a89340c5e\",\"root_ids\":[\"1780\"],\"roots\":{\"1780\":\"99a9999c-2c17-47cf-bfa6-bfa6c8fb9619\"}}];\n",
       "    root.Bokeh.embed.embed_items_notebook(docs_json, render_items);\n",
       "  }\n",
       "  if (root.Bokeh !== undefined && root.Bokeh.Panel !== undefined) {\n",
       "    embed_document(root);\n",
       "  } else {\n",
       "    var attempts = 0;\n",
       "    var timer = setInterval(function(root) {\n",
       "      if (root.Bokeh !== undefined && root.Bokeh.Panel !== undefined) {\n",
       "        clearInterval(timer);\n",
       "        embed_document(root);\n",
       "      } else if (document.readyState == \"complete\") {\n",
       "        attempts++;\n",
       "        if (attempts > 200) {\n",
       "          clearInterval(timer);\n",
       "          console.log(\"Bokeh: ERROR: Unable to run BokehJS code because BokehJS library is missing\");\n",
       "        }\n",
       "      }\n",
       "    }, 25, root)\n",
       "  }\n",
       "})(window);</script>"
      ],
      "text/plain": [
       "Column(sizing_mode='stretch_width')\n",
       "    [0] Bokeh(Figure, height=100, margin=10)"
      ]
     },
     "execution_count": 17,
     "metadata": {
      "application/vnd.holoviews_exec.v0+json": {
       "id": "1780"
      }
     },
     "output_type": "execute_result"
    }
   ],
   "source": [
    "seq_pane = pn.pane.Bokeh(height=100,margin=10)\n",
    "x= genbank_to_sequence(\"d378_attb-entry.gb\")\n",
    "seq_pane.object = plotters.plot_sequence(x[1:50])\n",
    "main = pn.Column(seq_pane, sizing_mode='stretch_width')\n",
    "main"
   ]
  },
  {
   "cell_type": "code",
   "execution_count": 16,
   "metadata": {},
   "outputs": [
    {
     "data": {
      "text/plain": [
       "Seq('GAGCTACCAACTCTTTTTCCGAGGTAACTGGCTTCAGCAGAGCGCAGATACCAA...CAA')"
      ]
     },
     "execution_count": 16,
     "metadata": {},
     "output_type": "execute_result"
    }
   ],
   "source": [
    "x"
   ]
  }
 ],
 "metadata": {
  "interpreter": {
   "hash": "949777d72b0d2535278d3dc13498b2535136f6dfe0678499012e853ee9abcab1"
  },
  "kernelspec": {
   "display_name": "Python 3.10.2 64-bit",
   "language": "python",
   "name": "python3"
  },
  "language_info": {
   "codemirror_mode": {
    "name": "ipython",
    "version": 3
   },
   "file_extension": ".py",
   "mimetype": "text/x-python",
   "name": "python",
   "nbconvert_exporter": "python",
   "pygments_lexer": "ipython3",
   "version": "3.10.2"
  },
  "orig_nbformat": 4
 },
 "nbformat": 4,
 "nbformat_minor": 2
}
